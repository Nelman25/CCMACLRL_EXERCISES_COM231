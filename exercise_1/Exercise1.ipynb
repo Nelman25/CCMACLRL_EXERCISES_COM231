{
  "cells": [
    {
      "cell_type": "markdown",
      "metadata": {
        "colab_type": "text",
        "id": "view-in-github"
      },
      "source": [
        "<a href=\"https://colab.research.google.com/github/Nelman25/CCMACLRL_EXERCISES_COM231/blob/master/Exercise1.ipynb\" target=\"_parent\"><img src=\"https://colab.research.google.com/assets/colab-badge.svg\" alt=\"Open In Colab\"/></a>"
      ]
    },
    {
      "cell_type": "markdown",
      "metadata": {
        "id": "XhYYx_KOpE5Z"
      },
      "source": [
        "# Exercise 1\n",
        "\n",
        "Create a model using K-Nearest Neigbors to perform classification using the personality dataset.\n",
        "\n",
        "0 -'introvert'\n",
        "\n",
        "1 - 'extrovert'"
      ]
    },
    {
      "cell_type": "markdown",
      "metadata": {
        "id": "yvFmoS5VnyZf"
      },
      "source": [
        "## A. Import libraries"
      ]
    },
    {
      "cell_type": "code",
      "execution_count": null,
      "metadata": {
        "id": "VLttupn-Tlcy"
      },
      "outputs": [
        {
          "ename": "",
          "evalue": "",
          "output_type": "error",
          "traceback": [
            "\u001b[1;31mRunning cells with 'Python 3.13.5' requires the ipykernel package.\n",
            "\u001b[1;31m<a href='command:jupyter.createPythonEnvAndSelectController'>Create a Python Environment</a> with the required packages.\n",
            "\u001b[1;31mOr install 'ipykernel' using the command: '/bin/python -m pip install ipykernel -U --user --force-reinstall'"
          ]
        }
      ],
      "source": [
        "import numpy as np\n",
        "import pandas as pd\n",
        "import matplotlib.pyplot as plt\n",
        "\n",
        "import sklearn\n",
        "from sklearn.model_selection import train_test_split\n",
        "from sklearn.neighbors import KNeighborsClassifier\n",
        "from sklearn.metrics import accuracy_score, precision_score, recall_score, f1_score, confusion_matrix, ConfusionMatrixDisplay"
      ]
    },
    {
      "cell_type": "markdown",
      "metadata": {
        "id": "wfADF4zjn15q"
      },
      "source": [
        "## B. Load and understand the dataset"
      ]
    },
    {
      "cell_type": "code",
      "execution_count": null,
      "metadata": {
        "id": "MJt6tKZP-CqF"
      },
      "outputs": [],
      "source": [
        "df = pd.read_excel('./facebook_friends.xlsx')"
      ]
    },
    {
      "cell_type": "markdown",
      "metadata": {
        "id": "_c9nnfDJUhwO"
      },
      "source": [
        "Display the first 5 rows of the dataset using `.head()`"
      ]
    },
    {
      "cell_type": "code",
      "execution_count": null,
      "metadata": {
        "colab": {
          "base_uri": "https://localhost:8080/",
          "height": 206
        },
        "id": "9HfPRONlTzM1",
        "outputId": "f75c12c4-8e66-4476-8552-e644270e4ad9"
      },
      "outputs": [],
      "source": [
        "df.head()"
      ]
    },
    {
      "cell_type": "markdown",
      "metadata": {
        "id": "yVS-w6Vyp0yS"
      },
      "source": [
        "Display the summary of all the features of the dataset using `.info()`"
      ]
    },
    {
      "cell_type": "code",
      "execution_count": null,
      "metadata": {
        "colab": {
          "base_uri": "https://localhost:8080/"
        },
        "id": "AERsD8akAzMa",
        "outputId": "2f545c46-89b2-483b-d5ff-5d577c9336d2"
      },
      "outputs": [],
      "source": [
        "df.info()"
      ]
    },
    {
      "cell_type": "code",
      "execution_count": null,
      "metadata": {
        "colab": {
          "base_uri": "https://localhost:8080/",
          "height": 300
        },
        "id": "lITZPPruT5An",
        "outputId": "8217c909-aeea-413d-cca5-c70bce7a18ea"
      },
      "outputs": [],
      "source": [
        "df.describe()"
      ]
    },
    {
      "cell_type": "markdown",
      "metadata": {
        "id": "KgW0AJJgqlxA"
      },
      "source": [
        "Display the total number of samples from each label using `.value_counts()`"
      ]
    },
    {
      "cell_type": "code",
      "execution_count": null,
      "metadata": {
        "colab": {
          "base_uri": "https://localhost:8080/",
          "height": 178
        },
        "id": "S3R58V7uqkyr",
        "outputId": "d7d1a2eb-4058-4101-9447-0e2447c479d9"
      },
      "outputs": [],
      "source": [
        "# put your answer here\n",
        "df[\"Personality\"].value_counts()"
      ]
    },
    {
      "cell_type": "markdown",
      "metadata": {
        "id": "rFUNVTO5Piwt"
      },
      "source": [
        "Use a histogram to display the number of followers for each samples\n",
        " - The x axis should be the number of followers/friends\n",
        " - The y axis should be the number of samples in the dataset"
      ]
    },
    {
      "cell_type": "code",
      "execution_count": null,
      "metadata": {
        "colab": {
          "base_uri": "https://localhost:8080/",
          "height": 449
        },
        "id": "Jd3Nk5wYPjC4",
        "outputId": "e1522aa2-e313-4549-b32c-8646c63b1d40"
      },
      "outputs": [],
      "source": [
        "plt.hist(df[\"Number of friends/followers\"])\n",
        "plt.xlabel(\"Number of Friends/Followers\")\n",
        "plt.ylabel(\"Number of samples\")\n",
        "plt.show()\n"
      ]
    },
    {
      "cell_type": "markdown",
      "metadata": {
        "id": "63oSfsjxvoBL"
      },
      "source": [
        "Remove the name column using `drop()` method"
      ]
    },
    {
      "cell_type": "code",
      "execution_count": null,
      "metadata": {
        "colab": {
          "base_uri": "https://localhost:8080/",
          "height": 206
        },
        "id": "9-q3FbxtvoXz",
        "outputId": "c3c5fdb8-2a06-4577-923c-c39bd790d897"
      },
      "outputs": [],
      "source": [
        "df.drop(columns=\"Name\", inplace=True)\n",
        "df.head()\n"
      ]
    },
    {
      "cell_type": "markdown",
      "metadata": {
        "id": "VFREr8J_oW0k"
      },
      "source": [
        "## C. Split the dataset into training and test set"
      ]
    },
    {
      "cell_type": "markdown",
      "metadata": {
        "id": "cVRjywv5q_x5"
      },
      "source": [
        "Convert the features into an numpy array using `.values()` and store it in a variable \"X\""
      ]
    },
    {
      "cell_type": "code",
      "execution_count": null,
      "metadata": {
        "colab": {
          "base_uri": "https://localhost:8080/"
        },
        "id": "jXLzLDjuVcgI",
        "outputId": "8fe4be06-3c8c-4829-8ed6-c2d64446d790"
      },
      "outputs": [],
      "source": [
        "X = df.drop(columns=['Personality']).values\n",
        "X"
      ]
    },
    {
      "cell_type": "markdown",
      "metadata": {
        "id": "zw8QxWNVrjIq"
      },
      "source": [
        "Convert the labels into an numpy array using `.values()` and store it in a variable \"y\""
      ]
    },
    {
      "cell_type": "code",
      "execution_count": null,
      "metadata": {
        "colab": {
          "base_uri": "https://localhost:8080/"
        },
        "id": "R9L1WVXpVsBi",
        "outputId": "60826522-ee51-47d8-909b-6581e5a98a5f"
      },
      "outputs": [],
      "source": [
        "y = df[\"Personality\"].values\n",
        "y"
      ]
    },
    {
      "cell_type": "markdown",
      "metadata": {
        "id": "1PnnfSX_ru6a"
      },
      "source": [
        "Use `train_test_split()` to split the data.\n",
        "\n",
        "- Declare a variable `X_train` that will hold the training data\n",
        "- Declare a variable `X_test` that will hold the test data\n",
        "- Declare a variable `y_train` that will hold the label of the training data\n",
        "- Declare a variable `y_test` that will hold the label of the test data\n"
      ]
    },
    {
      "cell_type": "code",
      "execution_count": null,
      "metadata": {
        "id": "gzDeHxnVWXk8"
      },
      "outputs": [],
      "source": [
        "X_train, X_test, y_train, y_test = train_test_split(X, y, test_size=0.23, random_state=8)"
      ]
    },
    {
      "cell_type": "markdown",
      "metadata": {
        "id": "9y8rh7HKU5y9"
      },
      "source": [
        "Display the dimensions of each variables using `.shape()`"
      ]
    },
    {
      "cell_type": "code",
      "execution_count": null,
      "metadata": {
        "colab": {
          "base_uri": "https://localhost:8080/"
        },
        "id": "tuhsJnRzU_n6",
        "outputId": "2e619ea3-cdfe-4c9d-fc48-ee395b2a5284"
      },
      "outputs": [],
      "source": [
        "print(X_train.shape)\n",
        "print(y_train.shape)\n",
        "print(X_test.shape)\n",
        "print(y_test.shape)"
      ]
    },
    {
      "cell_type": "markdown",
      "metadata": {
        "id": "IiJE-aYIocKX"
      },
      "source": [
        "## D. Create the model"
      ]
    },
    {
      "cell_type": "markdown",
      "metadata": {
        "id": "u71kVVeMosWD"
      },
      "source": [
        "Use KNN as a classifier by using `KNeighborsClassifier()`"
      ]
    },
    {
      "cell_type": "code",
      "execution_count": null,
      "metadata": {
        "id": "49H5F2P-WymH"
      },
      "outputs": [],
      "source": [
        "knn = KNeighborsClassifier(n_neighbors=11)"
      ]
    },
    {
      "cell_type": "markdown",
      "metadata": {
        "id": "J2aCQkTqou8x"
      },
      "source": [
        "Train the model using the `.fit()`"
      ]
    },
    {
      "cell_type": "code",
      "execution_count": null,
      "metadata": {
        "colab": {
          "base_uri": "https://localhost:8080/",
          "height": 80
        },
        "id": "jQREIyAfXEwf",
        "outputId": "64b59a1b-56e5-4f08-f42c-9f5107ee03bd"
      },
      "outputs": [],
      "source": [
        "# put your answer here\n",
        "knn.fit(X_train, y_train)"
      ]
    },
    {
      "cell_type": "markdown",
      "metadata": {
        "id": "KLXaUqqto2cu"
      },
      "source": [
        "Test the model using the `.predict()`"
      ]
    },
    {
      "cell_type": "code",
      "execution_count": null,
      "metadata": {
        "id": "a5xBSYn4XMPf"
      },
      "outputs": [],
      "source": [
        "# put your answer here\n",
        "y_pred = knn.predict(X_test)"
      ]
    },
    {
      "cell_type": "markdown",
      "metadata": {
        "id": "-ykdOOfoo8Qz"
      },
      "source": [
        "## E. Evaluate the model"
      ]
    },
    {
      "cell_type": "markdown",
      "metadata": {
        "id": "VL_iWAmLpa3T"
      },
      "source": [
        "Create a confusion matrix"
      ]
    },
    {
      "cell_type": "code",
      "execution_count": null,
      "metadata": {
        "colab": {
          "base_uri": "https://localhost:8080/",
          "height": 466
        },
        "id": "w9sRY_71XzR3",
        "outputId": "3c7e35e9-a539-405a-c5b4-0c46370ae54c"
      },
      "outputs": [],
      "source": [
        "# put your answer here\n",
        "conf_matrix = confusion_matrix(y_pred, y_test, labels=knn.classes_)\n",
        "\n",
        "disp = ConfusionMatrixDisplay(confusion_matrix=conf_matrix,\n",
        "                              display_labels=knn.classes_)\n",
        "disp.plot()\n"
      ]
    },
    {
      "cell_type": "markdown",
      "metadata": {
        "id": "a869sLN1srbH"
      },
      "source": [
        "Display the accuracy"
      ]
    },
    {
      "cell_type": "code",
      "execution_count": null,
      "metadata": {
        "colab": {
          "base_uri": "https://localhost:8080/"
        },
        "id": "6KWRq87Qs01v",
        "outputId": "e767b40f-a48e-401b-c505-2a29232fd29f"
      },
      "outputs": [],
      "source": [
        "accuracy_score(y_test, y_pred)"
      ]
    },
    {
      "cell_type": "markdown",
      "metadata": {
        "id": "TmJZhC8Jstp-"
      },
      "source": [
        "Display the precision"
      ]
    },
    {
      "cell_type": "code",
      "execution_count": null,
      "metadata": {
        "colab": {
          "base_uri": "https://localhost:8080/"
        },
        "id": "C19ePb5Os1N0",
        "outputId": "da2b1205-3032-4768-b2a8-2608cda78d26"
      },
      "outputs": [],
      "source": [
        "precision = precision_score(y_test, y_pred, average=None)\n",
        "precision"
      ]
    },
    {
      "cell_type": "markdown",
      "metadata": {
        "id": "gUy5spuhsvVx"
      },
      "source": [
        "Display the recall"
      ]
    },
    {
      "cell_type": "code",
      "execution_count": null,
      "metadata": {
        "colab": {
          "base_uri": "https://localhost:8080/"
        },
        "id": "iqym3xvms139",
        "outputId": "4cf81d78-9c0e-44d8-b6ec-fc80c653af0c"
      },
      "outputs": [],
      "source": [
        "recall = recall_score(y_test, y_pred, average=None)\n",
        "recall"
      ]
    },
    {
      "cell_type": "markdown",
      "metadata": {
        "id": "mbQJQG3fsxVJ"
      },
      "source": [
        "Display the f1-score"
      ]
    },
    {
      "cell_type": "code",
      "execution_count": null,
      "metadata": {
        "colab": {
          "base_uri": "https://localhost:8080/"
        },
        "id": "YvBGhAzPs2ht",
        "outputId": "1cd220a9-a2fa-40cb-935d-31f582e30e54"
      },
      "outputs": [],
      "source": [
        "f1 = f1_score(y_test, y_pred, average=None)\n",
        "f1"
      ]
    },
    {
      "cell_type": "code",
      "execution_count": null,
      "metadata": {
        "colab": {
          "base_uri": "https://localhost:8080/",
          "height": 472
        },
        "id": "PpcDjcBJWwhc",
        "outputId": "bc76e993-44ea-453b-9c80-1827295c9095"
      },
      "outputs": [],
      "source": [
        "# experimenting with different n values\n",
        "k_range = list(range(1,26))\n",
        "scores = []\n",
        "\n",
        "for k in k_range:\n",
        "\n",
        "    knn = KNeighborsClassifier(n_neighbors=k)\n",
        "\n",
        "    # Train the model\n",
        "    knn.fit(X_train, y_train)\n",
        "\n",
        "    # Test the model\n",
        "    y_pred = knn.predict(X_test)\n",
        "    scores.append(accuracy_score(y_test, y_pred))\n",
        "\n",
        "plt.plot(k_range, scores)\n",
        "plt.xlabel('Value of k for KNN')\n",
        "plt.ylabel('Accuracy Score')\n",
        "plt.title('Accuracy Scores for Values of k of k-Nearest-Neighbors')\n",
        "plt.show()\n"
      ]
    },
    {
      "cell_type": "markdown",
      "metadata": {
        "id": "NhVb36_hVRdV"
      },
      "source": [
        "## F. Predict your own personality"
      ]
    },
    {
      "cell_type": "markdown",
      "metadata": {
        "id": "EJXcT38rVYsz"
      },
      "source": [
        "Enter your own features and use the model to generate a prediction using `.predict()`"
      ]
    },
    {
      "cell_type": "code",
      "execution_count": null,
      "metadata": {
        "colab": {
          "base_uri": "https://localhost:8080/"
        },
        "id": "kkZcRhjTVh_4",
        "outputId": "06d99e7d-549a-48bd-9629-44a3a5e13a48"
      },
      "outputs": [],
      "source": [
        "# put your answer here\n",
        "knn.predict([[0,1,0,110]])"
      ]
    }
  ],
  "metadata": {
    "colab": {
      "include_colab_link": true,
      "provenance": []
    },
    "kernelspec": {
      "display_name": "Python 3",
      "name": "python3"
    },
    "language_info": {
      "name": "python",
      "version": "3.13.5"
    }
  },
  "nbformat": 4,
  "nbformat_minor": 0
}
